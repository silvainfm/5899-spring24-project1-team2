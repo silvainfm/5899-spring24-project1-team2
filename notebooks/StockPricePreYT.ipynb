{
  "cells": [
    {
      "cell_type": "code",
      "execution_count": null,
      "metadata": {
        "id": "4mSQa8S67xqw"
      },
      "outputs": [],
      "source": [
        "#This program use an artificial neural network called LTSM\n",
        "#to predict the closing stock price of Apple Inc\n",
        "#using the past 60 day stock price\n",
        "\n",
        "import math\n",
        "import pandas_datareader as web\n",
        "from pandas.util.testing import assert_frame_equal as web1\n",
        "import numpy as np\n",
        "import pandas as pd\n",
        "from sklearn.preprocessing import MinMaxScaler\n",
        "from keras.models import Sequential\n",
        "from keras.layers import Dense, LSTM\n",
        "import matplotlib.pyplot as plt\n",
        "plt.style.use('fivethirtyeight')"
      ]
    },
    {
      "cell_type": "code",
      "execution_count": null,
      "metadata": {
        "colab": {
          "base_uri": "https://localhost:8080/",
          "height": 450
        },
        "id": "g0FkOSQ27_Cr",
        "outputId": "d8c11250-f16f-4e4b-da94-cbaf33e287f5"
      },
      "outputs": [
        {
          "data": {
            "text/html": [
              "<div>\n",
              "<style scoped>\n",
              "    .dataframe tbody tr th:only-of-type {\n",
              "        vertical-align: middle;\n",
              "    }\n",
              "\n",
              "    .dataframe tbody tr th {\n",
              "        vertical-align: top;\n",
              "    }\n",
              "\n",
              "    .dataframe thead th {\n",
              "        text-align: right;\n",
              "    }\n",
              "</style>\n",
              "<table border=\"1\" class=\"dataframe\">\n",
              "  <thead>\n",
              "    <tr style=\"text-align: right;\">\n",
              "      <th></th>\n",
              "      <th>High</th>\n",
              "      <th>Low</th>\n",
              "      <th>Open</th>\n",
              "      <th>Close</th>\n",
              "      <th>Volume</th>\n",
              "      <th>Adj Close</th>\n",
              "    </tr>\n",
              "    <tr>\n",
              "      <th>Date</th>\n",
              "      <th></th>\n",
              "      <th></th>\n",
              "      <th></th>\n",
              "      <th></th>\n",
              "      <th></th>\n",
              "      <th></th>\n",
              "    </tr>\n",
              "  </thead>\n",
              "  <tbody>\n",
              "    <tr>\n",
              "      <th>2012-01-03</th>\n",
              "      <td>58.928570</td>\n",
              "      <td>58.428570</td>\n",
              "      <td>58.485714</td>\n",
              "      <td>58.747143</td>\n",
              "      <td>75555200.0</td>\n",
              "      <td>50.857235</td>\n",
              "    </tr>\n",
              "    <tr>\n",
              "      <th>2012-01-04</th>\n",
              "      <td>59.240002</td>\n",
              "      <td>58.468571</td>\n",
              "      <td>58.571430</td>\n",
              "      <td>59.062859</td>\n",
              "      <td>65005500.0</td>\n",
              "      <td>51.130558</td>\n",
              "    </tr>\n",
              "    <tr>\n",
              "      <th>2012-01-05</th>\n",
              "      <td>59.792858</td>\n",
              "      <td>58.952858</td>\n",
              "      <td>59.278572</td>\n",
              "      <td>59.718571</td>\n",
              "      <td>67817400.0</td>\n",
              "      <td>51.698215</td>\n",
              "    </tr>\n",
              "    <tr>\n",
              "      <th>2012-01-06</th>\n",
              "      <td>60.392857</td>\n",
              "      <td>59.888573</td>\n",
              "      <td>59.967144</td>\n",
              "      <td>60.342857</td>\n",
              "      <td>79573200.0</td>\n",
              "      <td>52.238651</td>\n",
              "    </tr>\n",
              "    <tr>\n",
              "      <th>2012-01-09</th>\n",
              "      <td>61.107143</td>\n",
              "      <td>60.192856</td>\n",
              "      <td>60.785713</td>\n",
              "      <td>60.247143</td>\n",
              "      <td>98506100.0</td>\n",
              "      <td>52.155792</td>\n",
              "    </tr>\n",
              "    <tr>\n",
              "      <th>...</th>\n",
              "      <td>...</td>\n",
              "      <td>...</td>\n",
              "      <td>...</td>\n",
              "      <td>...</td>\n",
              "      <td>...</td>\n",
              "      <td>...</td>\n",
              "    </tr>\n",
              "    <tr>\n",
              "      <th>2019-12-11</th>\n",
              "      <td>271.100006</td>\n",
              "      <td>268.500000</td>\n",
              "      <td>268.809998</td>\n",
              "      <td>270.769989</td>\n",
              "      <td>19689200.0</td>\n",
              "      <td>269.399658</td>\n",
              "    </tr>\n",
              "    <tr>\n",
              "      <th>2019-12-12</th>\n",
              "      <td>272.559998</td>\n",
              "      <td>267.320007</td>\n",
              "      <td>267.779999</td>\n",
              "      <td>271.459991</td>\n",
              "      <td>34327600.0</td>\n",
              "      <td>270.086151</td>\n",
              "    </tr>\n",
              "    <tr>\n",
              "      <th>2019-12-13</th>\n",
              "      <td>275.299988</td>\n",
              "      <td>270.929993</td>\n",
              "      <td>271.459991</td>\n",
              "      <td>275.149994</td>\n",
              "      <td>33396900.0</td>\n",
              "      <td>273.757477</td>\n",
              "    </tr>\n",
              "    <tr>\n",
              "      <th>2019-12-16</th>\n",
              "      <td>280.790009</td>\n",
              "      <td>276.980011</td>\n",
              "      <td>277.000000</td>\n",
              "      <td>279.859985</td>\n",
              "      <td>32046500.0</td>\n",
              "      <td>278.443604</td>\n",
              "    </tr>\n",
              "    <tr>\n",
              "      <th>2019-12-17</th>\n",
              "      <td>281.769989</td>\n",
              "      <td>278.799988</td>\n",
              "      <td>279.570007</td>\n",
              "      <td>280.410004</td>\n",
              "      <td>28539600.0</td>\n",
              "      <td>278.990875</td>\n",
              "    </tr>\n",
              "  </tbody>\n",
              "</table>\n",
              "<p>2003 rows × 6 columns</p>\n",
              "</div>"
            ],
            "text/plain": [
              "                  High         Low  ...      Volume   Adj Close\n",
              "Date                                ...                        \n",
              "2012-01-03   58.928570   58.428570  ...  75555200.0   50.857235\n",
              "2012-01-04   59.240002   58.468571  ...  65005500.0   51.130558\n",
              "2012-01-05   59.792858   58.952858  ...  67817400.0   51.698215\n",
              "2012-01-06   60.392857   59.888573  ...  79573200.0   52.238651\n",
              "2012-01-09   61.107143   60.192856  ...  98506100.0   52.155792\n",
              "...                ...         ...  ...         ...         ...\n",
              "2019-12-11  271.100006  268.500000  ...  19689200.0  269.399658\n",
              "2019-12-12  272.559998  267.320007  ...  34327600.0  270.086151\n",
              "2019-12-13  275.299988  270.929993  ...  33396900.0  273.757477\n",
              "2019-12-16  280.790009  276.980011  ...  32046500.0  278.443604\n",
              "2019-12-17  281.769989  278.799988  ...  28539600.0  278.990875\n",
              "\n",
              "[2003 rows x 6 columns]"
            ]
          },
          "execution_count": 3,
          "metadata": {
            "tags": []
          },
          "output_type": "execute_result"
        }
      ],
      "source": [
        "#get the the stock quote\n",
        "df = web.DataReader('AAPL', data_source='yahoo', start='2012-01-01', end='2019-12-17')\n",
        "#show the data\n",
        "df"
      ]
    },
    {
      "cell_type": "code",
      "execution_count": null,
      "metadata": {
        "colab": {
          "base_uri": "https://localhost:8080/",
          "height": 34
        },
        "id": "vpY-7-nQ80o7",
        "outputId": "6771ef50-9514-4586-eef2-3423143cc0c6"
      },
      "outputs": [
        {
          "data": {
            "text/plain": [
              "(2003, 6)"
            ]
          },
          "execution_count": 4,
          "metadata": {
            "tags": []
          },
          "output_type": "execute_result"
        }
      ],
      "source": [
        "#get the number of rows and columns in the data set\n",
        "df.shape"
      ]
    },
    {
      "cell_type": "code",
      "execution_count": null,
      "metadata": {
        "colab": {
          "base_uri": "https://localhost:8080/",
          "height": 388
        },
        "id": "9Ig3R7j19FMf",
        "outputId": "c7ab0b8c-0988-452f-99d1-421254d353ea"
      },
      "outputs": [
        {
          "data": {
            "text/plain": [
              "Text(0, 0.5, 'Close Price USD ($)')"
            ]
          },
          "execution_count": 6,
          "metadata": {
            "tags": []
          },
          "output_type": "execute_result"
        },
        {
          "data": {
            "image/png": "[encoded data removed]",
            "text/plain": [
              "<Figure size 1152x576 with 1 Axes>"
            ]
          },
          "metadata": {
            "tags": []
          },
          "output_type": "display_data"
        }
      ],
      "source": [
        "#Visualize the closing price\n",
        "plt.figure(figsize=(16,8))\n",
        "plt.title('Close Price History')\n",
        "plt.plot(df['Close'])\n",
        "plt.xlabel('Date',fontsize=18)\n",
        "plt.ylabel('Close Price USD ($)', fontsize=18)"
      ]
    },
    {
      "cell_type": "code",
      "execution_count": null,
      "metadata": {
        "colab": {
          "base_uri": "https://localhost:8080/",
          "height": 34
        },
        "id": "3rsujSMg938y",
        "outputId": "28473639-cd3b-418c-f939-a8bd180b8282"
      },
      "outputs": [
        {
          "data": {
            "text/plain": [
              "1603"
            ]
          },
          "execution_count": 10,
          "metadata": {
            "tags": []
          },
          "output_type": "execute_result"
        }
      ],
      "source": [
        "#Create a new data frame with the close column only\n",
        "data = df.filter(['Close'])\n",
        "#Convert the data frame to a numpy array\n",
        "dataset = data.values\n",
        "#Get the number of rows to train model on\n",
        "training_data_len = math.ceil( len(dataset) * .8)\n",
        "\n",
        "training_data_len"
      ]
    },
    {
      "cell_type": "code",
      "execution_count": null,
      "metadata": {
        "colab": {
          "base_uri": "https://localhost:8080/",
          "height": 136
        },
        "id": "3U60cW3p_UqH",
        "outputId": "a51038a4-f263-4fcc-acb3-2229acb9f9ae"
      },
      "outputs": [
        {
          "data": {
            "text/plain": [
              "array([[0.01316509],\n",
              "       [0.01457064],\n",
              "       [0.01748985],\n",
              "       ...,\n",
              "       [0.97658263],\n",
              "       [0.99755134],\n",
              "       [1.        ]])"
            ]
          },
          "execution_count": 11,
          "metadata": {
            "tags": []
          },
          "output_type": "execute_result"
        }
      ],
      "source": [
        "#Scale the data\n",
        "scaler = MinMaxScaler(feature_range=(0,1))\n",
        "scaled_data = scaler.fit_transform(dataset)\n",
        "\n",
        "scaled_data"
      ]
    },
    {
      "cell_type": "code",
      "execution_count": null,
      "metadata": {
        "colab": {
          "base_uri": "https://localhost:8080/",
          "height": 700
        },
        "id": "4N7gSV3d_9PB",
        "outputId": "c561dddc-c84d-438f-9888-3b8bd6b02881"
      },
      "outputs": [
        {
          "name": "stdout",
          "output_type": "stream",
          "text": [
            "[array([0.01316509, 0.01457064, 0.01748985, 0.02026915, 0.01984303,\n",
            "       0.02080338, 0.02036454, 0.01962679, 0.01862193, 0.02173194,\n",
            "       0.02453668, 0.02367172, 0.01893356, 0.02345548, 0.01900352,\n",
            "       0.03569838, 0.03440731, 0.0360927 , 0.03973694, 0.04194384,\n",
            "       0.0417594 , 0.0410789 , 0.04397903, 0.04670744, 0.04979839,\n",
            "       0.05479095, 0.0652785 , 0.06543749, 0.07127594, 0.07563885,\n",
            "       0.06814046, 0.07102789, 0.07097066, 0.07906688, 0.07791571,\n",
            "       0.08004628, 0.08387497, 0.08600558, 0.09214292, 0.09661397,\n",
            "       0.09790501, 0.09835659, 0.09071194, 0.08886753, 0.08914103,\n",
            "       0.09632775, 0.09835024, 0.10269405, 0.11293358, 0.12659476,\n",
            "       0.12403805, 0.1240444 , 0.13392141, 0.13701233, 0.13481179,\n",
            "       0.13280207, 0.13070964, 0.13766105, 0.14243103, 0.14442805])]\n",
            "[0.13949272033425864]\n",
            "\n",
            "[array([0.01316509, 0.01457064, 0.01748985, 0.02026915, 0.01984303,\n",
            "       0.02080338, 0.02036454, 0.01962679, 0.01862193, 0.02173194,\n",
            "       0.02453668, 0.02367172, 0.01893356, 0.02345548, 0.01900352,\n",
            "       0.03569838, 0.03440731, 0.0360927 , 0.03973694, 0.04194384,\n",
            "       0.0417594 , 0.0410789 , 0.04397903, 0.04670744, 0.04979839,\n",
            "       0.05479095, 0.0652785 , 0.06543749, 0.07127594, 0.07563885,\n",
            "       0.06814046, 0.07102789, 0.07097066, 0.07906688, 0.07791571,\n",
            "       0.08004628, 0.08387497, 0.08600558, 0.09214292, 0.09661397,\n",
            "       0.09790501, 0.09835659, 0.09071194, 0.08886753, 0.08914103,\n",
            "       0.09632775, 0.09835024, 0.10269405, 0.11293358, 0.12659476,\n",
            "       0.12403805, 0.1240444 , 0.13392141, 0.13701233, 0.13481179,\n",
            "       0.13280207, 0.13070964, 0.13766105, 0.14243103, 0.14442805]), array([0.01457064, 0.01748985, 0.02026915, 0.01984303, 0.02080338,\n",
            "       0.02036454, 0.01962679, 0.01862193, 0.02173194, 0.02453668,\n",
            "       0.02367172, 0.01893356, 0.02345548, 0.01900352, 0.03569838,\n",
            "       0.03440731, 0.0360927 , 0.03973694, 0.04194384, 0.0417594 ,\n",
            "       0.0410789 , 0.04397903, 0.04670744, 0.04979839, 0.05479095,\n",
            "       0.0652785 , 0.06543749, 0.07127594, 0.07563885, 0.06814046,\n",
            "       0.07102789, 0.07097066, 0.07906688, 0.07791571, 0.08004628,\n",
            "       0.08387497, 0.08600558, 0.09214292, 0.09661397, 0.09790501,\n",
            "       0.09835659, 0.09071194, 0.08886753, 0.08914103, 0.09632775,\n",
            "       0.09835024, 0.10269405, 0.11293358, 0.12659476, 0.12403805,\n",
            "       0.1240444 , 0.13392141, 0.13701233, 0.13481179, 0.13280207,\n",
            "       0.13070964, 0.13766105, 0.14243103, 0.14442805, 0.13949272])]\n",
            "[0.13949272033425864, 0.13293562570222134]\n",
            "\n"
          ]
        }
      ],
      "source": [
        "#Create the training dataset\n",
        "#create the scaled training dataset\n",
        "train_data =scaled_data[0:training_data_len,:]\n",
        "#Split data into x_train and y_train data sets\n",
        "x_train = []\n",
        "y_train = []\n",
        "\n",
        "for i in range(60, len(train_data)):\n",
        "  x_train.append(train_data[i-60:i, 0])\n",
        "  y_train.append(train_data[i,0])\n",
        "  if i <= 61:\n",
        "    print(x_train)\n",
        "    print(y_train)\n",
        "    print()\n"
      ]
    },
    {
      "cell_type": "code",
      "execution_count": null,
      "metadata": {
        "colab": {
          "base_uri": "https://localhost:8080/",
          "height": 34
        },
        "id": "Ndk3k0tgBnEg",
        "outputId": "73d09423-df48-4c75-9feb-971e8cf52328"
      },
      "outputs": [
        {
          "data": {
            "text/plain": [
              "(1543, 60, 1)"
            ]
          },
          "execution_count": 15,
          "metadata": {
            "tags": []
          },
          "output_type": "execute_result"
        }
      ],
      "source": [
        "#Convert the x_train and y_train to numpy arrays\n",
        "x_train, y_train = np.array(x_train), np.array(y_train)\n",
        "\n",
        "#reshape the data\n",
        "x_train = np.reshape(x_train, (x_train.shape[0],x_train.shape[1],1))\n",
        "x_train.shape"
      ]
    },
    {
      "cell_type": "code",
      "execution_count": null,
      "metadata": {
        "id": "1B7UYUxDCPEc"
      },
      "outputs": [],
      "source": [
        "#build the ltsm model\n",
        "model = Sequential()\n",
        "model.add(LSTM(50, return_sequences=True, input_shape = (x_train.shape[1], 1)))\n",
        "model.add(LSTM(50, return_sequences=False))\n",
        "model.add(Dense(25))\n",
        "model.add(Dense(1))\n"
      ]
    },
    {
      "cell_type": "code",
      "execution_count": null,
      "metadata": {
        "id": "itBbw5bLDCuj"
      },
      "outputs": [],
      "source": [
        "#Compile the model\n",
        "model.compile(optimizer='adam', loss= 'mean_squared_error')\n"
      ]
    },
    {
      "cell_type": "code",
      "execution_count": null,
      "metadata": {
        "colab": {
          "base_uri": "https://localhost:8080/",
          "height": 68
        },
        "id": "ZQ5G_NGuDXBE",
        "outputId": "8e3b6e34-73bf-4c87-8c71-2311e3d7cf65"
      },
      "outputs": [
        {
          "name": "stdout",
          "output_type": "stream",
          "text": [
            "Epoch 1/1\n",
            "1543/1543 [==============================] - 60s 39ms/step - loss: 7.8777e-04\n"
          ]
        },
        {
          "data": {
            "text/plain": [
              "<keras.callbacks.callbacks.History at 0x7f70ab5512e8>"
            ]
          },
          "execution_count": 52,
          "metadata": {
            "tags": []
          },
          "output_type": "execute_result"
        }
      ],
      "source": [
        "#Train the model\n",
        "model.fit(x_train, y_train, batch_size=1, epochs=1)"
      ]
    },
    {
      "cell_type": "code",
      "execution_count": null,
      "metadata": {
        "id": "XEIMMQ4zEQ-f"
      },
      "outputs": [],
      "source": [
        "#Create the testing dataset\n",
        "#Create new array containing scaled values from index 1543 to 2003\n",
        "test_data = scaled_data[training_data_len-60: , :]\n",
        "#Create the data sets x_test and y_test\n",
        "x_test = []\n",
        "y_test = dataset[training_data_len:, :]\n",
        "for i in range(60, len(test_data)):\n",
        "  x_test.append(test_data[i-60:i, 0])\n"
      ]
    },
    {
      "cell_type": "code",
      "execution_count": null,
      "metadata": {
        "id": "Brt0XcJjFEmG"
      },
      "outputs": [],
      "source": [
        "#Convert the data to a numpy array\n",
        "x_test = np.array(x_test)\n"
      ]
    },
    {
      "cell_type": "code",
      "execution_count": null,
      "metadata": {
        "id": "kdG7l6sZFQYa"
      },
      "outputs": [],
      "source": [
        "#Reshape the data\n",
        "x_test = np.reshape(x_test, (x_test.shape[0], x_test.shape[1], 1 ))"
      ]
    },
    {
      "cell_type": "code",
      "execution_count": null,
      "metadata": {
        "id": "ku3jzHATFzxe"
      },
      "outputs": [],
      "source": [
        "#Get the models predicted price values\n",
        "predictions = model.predict(x_test)\n",
        "predictions = scaler.inverse_transform(predictions)\n"
      ]
    },
    {
      "cell_type": "code",
      "execution_count": null,
      "metadata": {
        "colab": {
          "base_uri": "https://localhost:8080/",
          "height": 34
        },
        "id": "GsgUxNp1Mq-q",
        "outputId": "694cbef4-afe8-4a38-f101-8da4c5ae98d1"
      },
      "outputs": [
        {
          "data": {
            "text/plain": [
              "6.52286492873576"
            ]
          },
          "execution_count": 57,
          "metadata": {
            "tags": []
          },
          "output_type": "execute_result"
        }
      ],
      "source": [
        "#Get the root mean squared error (RSME)\n",
        "rmse = np.sqrt( np.mean((predictions- y_test)**2 ))\n",
        "rmse"
      ]
    },
    {
      "cell_type": "code",
      "execution_count": null,
      "metadata": {
        "colab": {
          "base_uri": "https://localhost:8080/",
          "height": 493
        },
        "id": "Ep_3ESd0NV2i",
        "outputId": "c37e1dcc-bc2c-4a67-f9b8-79e8ef7012a4"
      },
      "outputs": [
        {
          "name": "stderr",
          "output_type": "stream",
          "text": [
            "/usr/local/lib/python3.6/dist-packages/ipykernel_launcher.py:4: SettingWithCopyWarning: \n",
            "A value is trying to be set on a copy of a slice from a DataFrame.\n",
            "Try using .loc[row_indexer,col_indexer] = value instead\n",
            "\n",
            "See the caveats in the documentation: https://pandas.pydata.org/pandas-docs/stable/user_guide/indexing.html#returning-a-view-versus-a-copy\n",
            "  after removing the cwd from sys.path.\n"
          ]
        },
        {
          "data": {
            "image/png": "[encoded data removed]",
            "text/plain": [
              "<Figure size 1152x576 with 1 Axes>"
            ]
          },
          "metadata": {
            "tags": []
          },
          "output_type": "display_data"
        }
      ],
      "source": [
        "#Plot the data\n",
        "train = data[:training_data_len]\n",
        "valid = data[training_data_len:]\n",
        "valid['Predictions'] = predictions\n",
        "#Visualize the data\n",
        "plt.figure(figsize=(16,8))\n",
        "plt.title('Model')\n",
        "plt.xlabel('Date', fontsize=18)\n",
        "plt.ylabel('Close Price USD ($)', fontsize=18)\n",
        "plt.plot(train['Close'])\n",
        "plt.plot(valid[['Close', 'Predictions']])\n",
        "plt.legend(['Train', 'Val', 'Predictions'], loc='lower right')\n",
        "plt.show()"
      ]
    },
    {
      "cell_type": "code",
      "execution_count": null,
      "metadata": {
        "colab": {
          "base_uri": "https://localhost:8080/",
          "height": 450
        },
        "id": "zVzV5yxKRF8P",
        "outputId": "87bbc32b-f83f-4774-cdc8-274985bdc137"
      },
      "outputs": [
        {
          "data": {
            "text/html": [
              "<div>\n",
              "<style scoped>\n",
              "    .dataframe tbody tr th:only-of-type {\n",
              "        vertical-align: middle;\n",
              "    }\n",
              "\n",
              "    .dataframe tbody tr th {\n",
              "        vertical-align: top;\n",
              "    }\n",
              "\n",
              "    .dataframe thead th {\n",
              "        text-align: right;\n",
              "    }\n",
              "</style>\n",
              "<table border=\"1\" class=\"dataframe\">\n",
              "  <thead>\n",
              "    <tr style=\"text-align: right;\">\n",
              "      <th></th>\n",
              "      <th>Close</th>\n",
              "      <th>Predictions</th>\n",
              "    </tr>\n",
              "    <tr>\n",
              "      <th>Date</th>\n",
              "      <th></th>\n",
              "      <th></th>\n",
              "    </tr>\n",
              "  </thead>\n",
              "  <tbody>\n",
              "    <tr>\n",
              "      <th>2018-05-17</th>\n",
              "      <td>186.990005</td>\n",
              "      <td>186.255798</td>\n",
              "    </tr>\n",
              "    <tr>\n",
              "      <th>2018-05-18</th>\n",
              "      <td>186.309998</td>\n",
              "      <td>186.492905</td>\n",
              "    </tr>\n",
              "    <tr>\n",
              "      <th>2018-05-21</th>\n",
              "      <td>187.630005</td>\n",
              "      <td>186.491058</td>\n",
              "    </tr>\n",
              "    <tr>\n",
              "      <th>2018-05-22</th>\n",
              "      <td>187.160004</td>\n",
              "      <td>186.533783</td>\n",
              "    </tr>\n",
              "    <tr>\n",
              "      <th>2018-05-23</th>\n",
              "      <td>188.360001</td>\n",
              "      <td>186.537827</td>\n",
              "    </tr>\n",
              "    <tr>\n",
              "      <th>...</th>\n",
              "      <td>...</td>\n",
              "      <td>...</td>\n",
              "    </tr>\n",
              "    <tr>\n",
              "      <th>2019-12-11</th>\n",
              "      <td>270.769989</td>\n",
              "      <td>259.520905</td>\n",
              "    </tr>\n",
              "    <tr>\n",
              "      <th>2019-12-12</th>\n",
              "      <td>271.459991</td>\n",
              "      <td>260.354950</td>\n",
              "    </tr>\n",
              "    <tr>\n",
              "      <th>2019-12-13</th>\n",
              "      <td>275.149994</td>\n",
              "      <td>261.240173</td>\n",
              "    </tr>\n",
              "    <tr>\n",
              "      <th>2019-12-16</th>\n",
              "      <td>279.859985</td>\n",
              "      <td>262.458160</td>\n",
              "    </tr>\n",
              "    <tr>\n",
              "      <th>2019-12-17</th>\n",
              "      <td>280.410004</td>\n",
              "      <td>264.193329</td>\n",
              "    </tr>\n",
              "  </tbody>\n",
              "</table>\n",
              "<p>400 rows × 2 columns</p>\n",
              "</div>"
            ],
            "text/plain": [
              "                 Close  Predictions\n",
              "Date                               \n",
              "2018-05-17  186.990005   186.255798\n",
              "2018-05-18  186.309998   186.492905\n",
              "2018-05-21  187.630005   186.491058\n",
              "2018-05-22  187.160004   186.533783\n",
              "2018-05-23  188.360001   186.537827\n",
              "...                ...          ...\n",
              "2019-12-11  270.769989   259.520905\n",
              "2019-12-12  271.459991   260.354950\n",
              "2019-12-13  275.149994   261.240173\n",
              "2019-12-16  279.859985   262.458160\n",
              "2019-12-17  280.410004   264.193329\n",
              "\n",
              "[400 rows x 2 columns]"
            ]
          },
          "execution_count": 63,
          "metadata": {
            "tags": []
          },
          "output_type": "execute_result"
        }
      ],
      "source": [
        "#Show the valid and predicted prices\n",
        "valid"
      ]
    },
    {
      "cell_type": "code",
      "execution_count": null,
      "metadata": {
        "colab": {
          "base_uri": "https://localhost:8080/",
          "height": 34
        },
        "id": "Mxg7F-acRTDj",
        "outputId": "b7836ec1-93aa-4a9a-d61a-5c908e5cb203"
      },
      "outputs": [
        {
          "name": "stdout",
          "output_type": "stream",
          "text": [
            "[[265.9822]]\n"
          ]
        }
      ],
      "source": [
        "#Get the quote\n",
        "apple_quote = web.DataReader('AAPL', data_source='yahoo', start='2012-01-01', end='2019-12-17')\n",
        "#Create a new data frame\n",
        "new_df = apple_quote.filter(['Close'])\n",
        "#Get the last 60 days of prices and convert the dataframe to array\n",
        "last_60_days = new_df[-60:].values\n",
        "#Scale the data to be values between 0 and 60\n",
        "last_60_days_scaled = scaler.transform(last_60_days)\n",
        "#Create an empty list\n",
        "X_test = []\n",
        "X_test.append(last_60_days_scaled)\n",
        "X_test = np.array(X_test)\n",
        "#Reshape the data\n",
        "X_test = np.reshape(X_test, (X_test.shape[0], X_test.shape[1],1))\n",
        "#Get the predicted scaled price\n",
        "pred_price = model.predict(X_test)\n",
        "#undo the scaling\n",
        "pred_price = scaler.inverse_transform(pred_price)\n",
        "print(pred_price)"
      ]
    },
    {
      "cell_type": "code",
      "execution_count": null,
      "metadata": {
        "colab": {
          "base_uri": "https://localhost:8080/",
          "height": 68
        },
        "id": "qHSjYfJcTDh_",
        "outputId": "00fbcc55-3725-4f50-8dd9-2b9ee4013863"
      },
      "outputs": [
        {
          "name": "stdout",
          "output_type": "stream",
          "text": [
            "Date\n",
            "2019-12-18    279.73999\n",
            "Name: Close, dtype: float64\n"
          ]
        }
      ],
      "source": [
        "#Get the quote\n",
        "apple_quote2 = web.DataReader('AAPL', data_source='yahoo', start='2019-12-18', end='2019-12-18')\n",
        "print(apple_quote2['Close'])"
      ]
    },
    {
      "cell_type": "code",
      "execution_count": null,
      "metadata": {
        "id": "TnTMXd5QRTGG"
      },
      "outputs": [],
      "source": [
        "# get the sharpe ratio for the stock\n",
        "# get the daily return\n",
        "\n",
        "# get the daily return\n",
        "daily_return = df['Close'].pct_change()\n",
        "# calculate the annualized sharpe ratio\n",
        "sharpe_ratio = daily_return.mean() / daily_return.std()\n",
        "print(sharpe_ratio)\n",
        "\n",
        "# get the stock volatility\n",
        "stock_volatility = daily_return.std()\n",
        "print(stock_volatility)"
      ]
    },
    {
      "cell_type": "code",
      "execution_count": null,
      "metadata": {},
      "outputs": [],
      "source": [
        "import pandas as pd\n",
        "\n",
        "# Load the dataset\n",
        "data = pd.read_csv('daily_returns_adjusted_date.csv')\n",
        "\n",
        "\n"
      ]
    },
    {
      "cell_type": "code",
      "execution_count": null,
      "metadata": {},
      "outputs": [],
      "source": [
        "from transformers import AutoTokenizer, AutoModelForSequenceClassification\n",
        "from torch.nn.functional import softmax\n",
        "import torch\n",
        "\n",
        "# Load FinBERT model and tokenizer\n",
        "tokenizer = AutoTokenizer.from_pretrained('yiyanghkust/finbert-tone')\n",
        "model = AutoModelForSequenceClassification.from_pretrained('yiyanghkust/finbert-tone')\n",
        "\n",
        "def get_sentiment(text):\n",
        "    inputs = tokenizer(text, return_tensors=\"pt\", truncation=True, max_length=512)\n",
        "    outputs = model(**inputs)\n",
        "    probs = softmax(outputs.logits, dim=1)\n",
        "    sentiment = torch.argmax(probs, dim=1).numpy()[0]  # 0: negative, 1: neutral, 2: positive\n",
        "    return sentiment\n",
        "\n",
        "# Apply sentiment analysis\n",
        "data['predicted_sentiment'] = data['text'].apply(get_sentiment)\n"
      ]
    },
    {
      "cell_type": "code",
      "execution_count": null,
      "metadata": {},
      "outputs": [],
      "source": [
        "# use MA for the sentiment analysis when there is no sentiment, 5 day MA"
      ]
    },
    {
      "cell_type": "code",
      "execution_count": null,
      "metadata": {},
      "outputs": [],
      "source": [
        "trading_decisions = {}\n",
        "\n",
        "for date, group in data.groupby('date/time'):\n",
        "    sorted_stocks = group.sort_values(by='predicted_sentiment', ascending=False)\n",
        "    top_20 = sorted_stocks.head(20)['stock_symbol'].tolist()  # Assuming there's a 'stock_symbol' column\n",
        "    bottom_20 = sorted_stocks.tail(20)['stock_symbol'].tolist()\n",
        "    trading_decisions[date] = {'long': top_20, 'short': bottom_20}\n",
        "\n",
        "# Now, trading_decisions contains the trading strategy for each date\n"
      ]
    },
    {
      "cell_type": "code",
      "execution_count": null,
      "metadata": {},
      "outputs": [],
      "source": [
        "import numpy as np\n",
        "\n",
        "# Sample daily returns of the portfolio (in decimal form)\n",
        "daily_returns = np.array([0.01, -0.02, 0.015, -0.005, 0.01])\n",
        "\n",
        "# Calculate Annualized Return\n",
        "annualized_return = np.prod(1 + daily_returns)**(252/len(daily_returns)) - 1\n",
        "\n",
        "# Calculate Volatility (Standard Deviation of daily returns)\n",
        "volatility = np.std(daily_returns) * np.sqrt(252)\n",
        "\n",
        "# Assuming a risk-free rate of 1% (0.01 in decimal form)\n",
        "risk_free_rate = 0.01\n",
        "\n",
        "# Calculate Sharpe Ratio\n",
        "sharpe_ratio = (annualized_return - risk_free_rate) / volatility\n",
        "\n",
        "annualized_return, volatility, sharpe_ratio"
      ]
    }
  ],
  "metadata": {
    "colab": {
      "provenance": []
    },
    "kernelspec": {
      "display_name": "Python 3",
      "name": "python3"
    }
  },
  "nbformat": 4,
  "nbformat_minor": 0
}
